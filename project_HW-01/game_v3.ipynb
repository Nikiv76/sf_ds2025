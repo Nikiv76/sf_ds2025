{
 "cells": [
  {
   "cell_type": "markdown",
   "id": "2b0a6624",
   "metadata": {},
   "source": [
    "# Игра угадай число."
   ]
  },
  {
   "cell_type": "code",
   "execution_count": 1,
   "id": "d6657e42",
   "metadata": {},
   "outputs": [
    {
     "name": "stdout",
     "output_type": "stream",
     "text": [
      "Run benchmarking for random_predict: Ваш алгоритм угадывает число в среднем за: 100 попыток\n",
      "Run benchmarking for game_core_v2: Ваш алгоритм угадывает число в среднем за: 32 попыток\n",
      "Run benchmarking for game_core_v3: Ваш алгоритм угадывает число в среднем за: 5 попыток\n"
     ]
    }
   ],
   "source": [
    "from game_v3 import score_game\n",
    "from game_v3 import game_core_v3\n",
    "from game_v3 import game_core_v2\n",
    "from game_v3 import random_predict"
   ]
  },
  {
   "cell_type": "markdown",
   "id": "893dacdf",
   "metadata": {},
   "source": [
    "## Угадывание числа осуществляется тремя методами.\n",
    "### Результаты каждого метода выводятся на экран по порядку."
   ]
  },
  {
   "cell_type": "code",
   "execution_count": 3,
   "id": "342fa344",
   "metadata": {},
   "outputs": [
    {
     "name": "stdout",
     "output_type": "stream",
     "text": [
      "Ваш алгоритм угадывает число в среднем за: 97 попыток\n",
      "Ваш алгоритм угадывает число в среднем за: 33 попыток\n",
      "Ваш алгоритм угадывает число в среднем за: 5 попыток\n"
     ]
    },
    {
     "data": {
      "text/plain": [
       "5"
      ]
     },
     "execution_count": 3,
     "metadata": {},
     "output_type": "execute_result"
    }
   ],
   "source": [
    "score_game(random_predict)\n",
    "score_game(game_core_v2)\n",
    "score_game(game_core_v3)"
   ]
  }
 ],
 "metadata": {
  "kernelspec": {
   "display_name": "Python 3",
   "language": "python",
   "name": "python3"
  },
  "language_info": {
   "codemirror_mode": {
    "name": "ipython",
    "version": 3
   },
   "file_extension": ".py",
   "mimetype": "text/x-python",
   "name": "python",
   "nbconvert_exporter": "python",
   "pygments_lexer": "ipython3",
   "version": "3.9.10"
  }
 },
 "nbformat": 4,
 "nbformat_minor": 5
}
