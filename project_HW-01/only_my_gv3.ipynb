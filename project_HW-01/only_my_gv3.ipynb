{
 "cells": [
  {
   "cell_type": "markdown",
   "id": "7508c026",
   "metadata": {},
   "source": [
    "# Игра Угадай число"
   ]
  },
  {
   "cell_type": "code",
   "execution_count": 3,
   "id": "0d388d58",
   "metadata": {},
   "outputs": [
    {
     "name": "stdout",
     "output_type": "stream",
     "text": [
      "Ваш алгоритм угадывает число в среднем за: 5 попыток\n"
     ]
    }
   ],
   "source": [
    "from only_my_gv3 import score_game\n",
    "from only_my_gv3 import game_core_v3"
   ]
  },
  {
   "cell_type": "markdown",
   "id": "c7d4574e",
   "metadata": {},
   "source": [
    "## Угадываем при помощи расчета среднего значения "
   ]
  },
  {
   "cell_type": "code",
   "execution_count": 5,
   "id": "285bad4b",
   "metadata": {},
   "outputs": [
    {
     "data": {
      "text/plain": [
       "5"
      ]
     },
     "execution_count": 5,
     "metadata": {},
     "output_type": "execute_result"
    }
   ],
   "source": [
    "score_game(game_core_v3)"
   ]
  }
 ],
 "metadata": {
  "kernelspec": {
   "display_name": "Python 3",
   "language": "python",
   "name": "python3"
  },
  "language_info": {
   "codemirror_mode": {
    "name": "ipython",
    "version": 3
   },
   "file_extension": ".py",
   "mimetype": "text/x-python",
   "name": "python",
   "nbconvert_exporter": "python",
   "pygments_lexer": "ipython3",
   "version": "3.9.10"
  }
 },
 "nbformat": 4,
 "nbformat_minor": 5
}
